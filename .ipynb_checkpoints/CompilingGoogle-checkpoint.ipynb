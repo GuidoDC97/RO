{
 "cells": [
  {
   "cell_type": "markdown",
   "metadata": {},
   "source": [
    "# Google Hashcode 2019 Final Round: Compiling Google"
   ]
  },
  {
   "cell_type": "code",
   "execution_count": 1,
   "metadata": {},
   "outputs": [],
   "source": [
    "import numpy as np\n",
    "import io\n",
    "import os\n",
    "import pathlib\n",
    "import networkx as nx\n",
    "import matplotlib.pyplot as plt"
   ]
  },
  {
   "cell_type": "code",
   "execution_count": 2,
   "metadata": {},
   "outputs": [],
   "source": [
    "config InlineBackend.figure_format = 'retina'"
   ]
  },
  {
   "cell_type": "markdown",
   "metadata": {},
   "source": [
    "## Utility Functions"
   ]
  },
  {
   "cell_type": "code",
   "execution_count": 3,
   "metadata": {},
   "outputs": [],
   "source": [
    "def open_input(filename):\n",
    "    # read file\n",
    "    path=str(pathlib.Path().absolute())+\"/dataset/\"+filename\n",
    "    input_file = io.open(path, mode='r')\n",
    "    Lines = input_file.readlines() #lista di righe del file sorgente\n",
    "    input_file.close()\n",
    "\n",
    "    # parsing first line\n",
    "    [num_file,num_target,num_server] = np.fromstring(Lines[0], dtype=int, sep=' ')\n",
    "\n",
    "    # conversion of read lines from list of string to list of lists \n",
    "    Lines = [i.strip(\"[]\\n\").split(\" \") for i in Lines]\n",
    "\n",
    "    # blank dicts\n",
    "    time = {}\n",
    "    dep = {}\n",
    "    target = {}\n",
    "\n",
    "    \n",
    "    # build time & dep dicts\n",
    "    row=1\n",
    "\n",
    "    while row <= num_file*2:\n",
    "        time.update({Lines[row][0] : [Lines[row][1], Lines[row][2]]})\n",
    "        row_dep=row+1\n",
    "\n",
    "        if Lines[row_dep][0]== \"0\":\n",
    "            dep.update({Lines[row][0]: []})\n",
    "        else:\n",
    "            num_dep=int(Lines[row_dep][0])\n",
    "            dep.update({Lines[row][0]: Lines[row_dep][-num_dep:]})\n",
    "\n",
    "        row+=2\n",
    "\n",
    "    # build target dict     \n",
    "    row=1+num_file*2\n",
    "\n",
    "    while row <= num_target+(num_file*2):\n",
    "        target.update({Lines[row][0] : [Lines[row][1], Lines[row][2]]})\n",
    "        row+=1;\n",
    "\n",
    "    # conversion dicts lists from string to int\n",
    "    time = dict((k,list(map(int,v))) for k,v in time.items())\n",
    "    target = dict((k,list(map(int,v))) for k,v in target.items())\n",
    "\n",
    "    # generate file list\n",
    "    file=list(time.keys())\n",
    "\n",
    "    return num_file, num_target, num_server, file, time, dep, target"
   ]
  },
  {
   "cell_type": "code",
   "execution_count": 4,
   "metadata": {},
   "outputs": [],
   "source": [
    "#creates the matrix of execution sequences\n",
    "def create_sequence(num_server, target, dep): \n",
    "    \n",
    "    # INPUT\n",
    "    # num_serv: number of servers\n",
    "    # target: dictionary of target's files\n",
    "    # dep: dictionary of file's dependencies\n",
    "    \n",
    "    # OUTPUT\n",
    "    # matrix: matrix of execution sequences\n",
    "    \n",
    "    \n",
    "    # number of files target\n",
    "    num_target = len(target)\n",
    "    # list of target files\n",
    "    target_keys = list(target.keys())\n",
    "    # declaration of emtpy matrix\n",
    "    matrix = []\n",
    "    \n",
    "   \n",
    "    matrix_dim = min(num_server,num_target)\n",
    "    # insert a target file for each matrix' row \n",
    "    for i in range(matrix_dim):\n",
    "        row = []\n",
    "        row.append(target_keys[i])\n",
    "        matrix.append(row)\n",
    "    \n",
    "    # declaration of empty list of nodes. Contains nodes that must be inserted in a matrix' row\n",
    "    nodes = []\n",
    "    # declaration of empty list of files. Contains files that have already been inserted in matrix\n",
    "    file_list = []\n",
    "    \n",
    "    # continues filling the matrix with dependencies of file targets\n",
    "    for i in range(matrix_dim):\n",
    "        nodes.append(matrix[i][0])\n",
    "        \n",
    "        while len(nodes) != 0:\n",
    "            dep_list = dep[nodes[0]]\n",
    "            \n",
    "            for f in dep_list:\n",
    "                # check whether the dependency file is already being compiled on a server or not\n",
    "                if not(f in file_list):\n",
    "                    matrix[i].insert(0,f)\n",
    "                    file_list.append(f)\n",
    "                    nodes.append(f)\n",
    "                    \n",
    "            nodes.pop(0)  \n",
    "        \n",
    "    return matrix"
   ]
  },
  {
   "cell_type": "code",
   "execution_count": 5,
   "metadata": {},
   "outputs": [],
   "source": [
    "# creates list of target files that do not generates dependencies\n",
    "def find_target(target, dep):\n",
    "    no_dep_tar = []\n",
    "    \n",
    "    for key_tar in target:\n",
    "        no_dep = True\n",
    "        \n",
    "        for key_dep in dep:\n",
    "            if key_tar in dep[key_dep]:\n",
    "                no_dep = False\n",
    "                break\n",
    "                \n",
    "        if no_dep:\n",
    "            no_dep_tar.append(key_tar)\n",
    "    return no_dep_tar"
   ]
  },
  {
   "cell_type": "code",
   "execution_count": 6,
   "metadata": {},
   "outputs": [],
   "source": [
    "def build_graph(time, dep, sequence):\n",
    "    # Define the directed graph of the files\n",
    "    graph = nx.DiGraph()\n",
    "\n",
    "    # Add the nodes of the graph\n",
    "    for i,s in enumerate(sequence):\n",
    "        graph.add_nodes_from(s, server=i+1)\n",
    "\n",
    "    # Add the edges of the graph\n",
    "    for s in sequence:    \n",
    "        # add an edge between files on the same server\n",
    "        for i in range(len(s)-1):\n",
    "            w = time[s[i]][0]\n",
    "            graph.add_edge(s[i], s[i+1], weight=w, n_weight=-w, color=\"black\")\n",
    "        # add dipendencies edges for each file on a server\n",
    "        for i in range(len(s)):       \n",
    "            dep_files = dep[s[i]]\n",
    "            # check that the files has dipendencies\n",
    "            if dep_files: \n",
    "                for f in dep_files:\n",
    "                    # check that the file is on an other server\n",
    "                    if f not in s:\n",
    "                        w = time[f][0]+time[f][1]\n",
    "                        graph.add_edge(f, s[i], weight=w, n_weight=-w, color=\"black\")\n",
    "\n",
    "    # Add two fake nodes\n",
    "    graph.add_node(\"s\", server=-1)\n",
    "    graph.add_node(\"t\", server=-1)\n",
    "\n",
    "    for node in list(graph.nodes):\n",
    "        if (node!=\"s\" and node!=\"t\"):\n",
    "            # if node doesn't have in-edges, add edge s -> node\n",
    "            if not graph.in_edges(node):\n",
    "                graph.add_edge(\"s\", node, weight=0, n_weight=0, color=\"black\")\n",
    "            # if node doesn't have out-edges, add edge node -> t\n",
    "            elif not graph.out_edges(node):\n",
    "                w = time[node][0]\n",
    "                graph.add_edge(node, \"t\", weight=w, n_weight=-w, color=\"black\")    \n",
    "    \n",
    "    return graph;"
   ]
  },
  {
   "cell_type": "code",
   "execution_count": 7,
   "metadata": {},
   "outputs": [],
   "source": [
    "def get_longest_path(graph):\n",
    "    # Get the longest path using negative weights and Bellman-Ford algorithm\n",
    "    distance, path = nx.algorithms.shortest_paths.weighted.single_source_bellman_ford(graph, \"s\", weight=\"n_weight\")\n",
    "    # change the color of the edge on the path\n",
    "    for key,value in path.items():\n",
    "        if len(value)>1:\n",
    "            for i in range(len(value)-1):\n",
    "                graph[value[i]][value[i+1]][\"color\"] = \"red\"\n",
    "    \n",
    "    return graph, distance, path;"
   ]
  },
  {
   "cell_type": "code",
   "execution_count": 8,
   "metadata": {},
   "outputs": [],
   "source": [
    "def draw_graph(graph):\n",
    "    # Draw the given graph\n",
    "    fig = plt.figure(figsize=(10,6))\n",
    "    ax = plt.axes()\n",
    "    # graph layout\n",
    "    pos = nx.planar_layout(graph)\n",
    "    # draw nodes\n",
    "    cmap = plt.get_cmap('Pastel1')\n",
    "    # https://matplotlib.org/3.1.0/tutorials/colors/colormaps.html <----- visit here for others color maps\n",
    "    colors = [cmap(i) for i in np.linspace(0, 1, len(sequence)+1)]\n",
    "    for i,server in enumerate(sequence):\n",
    "        nx.draw_networkx_nodes(graph, pos, ax=ax, nodelist=server, node_color=[colors[i]], alpha=1, edgecolors=\"black\")\n",
    "    nx.draw_networkx_nodes(graph, pos, ax=ax, nodelist=[\"s\",\"t\"], node_color=[colors[len(sequence)]], alpha=1, edgecolors=\"black\")\n",
    "    nx.draw_networkx_labels(graph, pos, ax=ax);\n",
    "    # draw edges\n",
    "    color = nx.get_edge_attributes(graph,'color')\n",
    "    nx.draw_networkx_edges(graph, pos, ax=ax, width=1.0, alpha=0.8, edge_color=color.values())\n",
    "    edge_labels = nx.get_edge_attributes(graph,'weight')\n",
    "    nx.draw_networkx_edge_labels(graph, pos, ax=ax, edge_labels=edge_labels, label_pos=0.5)\n",
    "\n",
    "    plt.show()\n",
    "    \n",
    "    return graph"
   ]
  },
  {
   "cell_type": "code",
   "execution_count": 9,
   "metadata": {},
   "outputs": [],
   "source": [
    "def get_score(distance, target, time):\n",
    "    # Compute the score of the solution\n",
    "    score = 0\n",
    "    for file in target:\n",
    "        # check if the file target is in the given solution\n",
    "        if file in distance:\n",
    "            d = target[file][0]\n",
    "            x = -distance[file]+time[file][0]\n",
    "            # check if the file is compiled before the deadline\n",
    "            if x<=d:\n",
    "                g = target[file][1]\n",
    "                score = score + d-x + g\n",
    "        \n",
    "    return score;"
   ]
  },
  {
   "cell_type": "code",
   "execution_count": 10,
   "metadata": {},
   "outputs": [],
   "source": [
    "def write_file(distance, graph):\n",
    "    \n",
    "    # INPUT\n",
    "    # distance: dictionary of distances for current execution sequence\n",
    "    # graph: graph of current execution sequence\n",
    "    \n",
    "    # OUTPUT\n",
    "    # creates/overwrites file in path \"./output/submission_file.txt\"\n",
    "    \n",
    "\n",
    "    # convert distances in positive values\n",
    "    distance = dict((k,abs(v)) for k,v in distance.items())\n",
    "    #convert distance dictionary to list\n",
    "    distance_list = sorted(distance.items(), key=lambda x: x[1])\n",
    "    \n",
    "    # checking wheater output's folder exists\n",
    "    path_dir=str(pathlib.Path().absolute())+ \"/output\"\n",
    "    if not os.path.exists(path_dir):\n",
    "        os.mkdir(path_dir)  \n",
    "    \n",
    "    #opening file\n",
    "    path = path_dir + '/submission_file.txt'\n",
    "    file_object = open(path, 'w')\n",
    "    \n",
    "    # writing file\n",
    "    file_object.write(str(len(distance_list)-2)+ '\\n')\n",
    "    print(str(len(distance_list)-2))\n",
    "    \n",
    "    for i in distance_list:\n",
    "        if(i[0] != 's' and i[0] != 't'):\n",
    "            file = i[0]\n",
    "            time = i[1]\n",
    "            server = graph.nodes[file]['server']\n",
    "            file_object.write(file + \" \" + str(server) + '\\n')\n",
    "            print(file + \" \" + str(time) + \" \" + str(server))\n",
    "\n",
    "    file_object.close()"
   ]
  },
  {
   "cell_type": "markdown",
   "metadata": {},
   "source": [
    "# DOUBTS\n",
    "* Ho fatto in modo da dare alla matrice tante righe per quanti sono il minimo di target o server. Se però ho più server che target alcuni server perdono tempo senza lavorare.\n",
    "* Ho preso i file target da assegnare in ordine di come si presentavano all'interno della lista target. Non sono convinto del fatto che usando invece i file target senza dipendenze le prestazioni siano migliori. Bisogna inoltre tenere in conto che se scegliessimo questa strada avremmo ancora meno server a lavorare (inoltre va modificato il codice).\n",
    "* La soluzione che trovo in questo caso, con due server, non è una soluzione ottima ovviamente ma non sono sicuro che sia ammissibile. In che senso la soluzione trovata dev'essere ammissibile?\n",
    "* Non sono sicuro che il codice abbia una complessità decente."
   ]
  },
  {
   "cell_type": "markdown",
   "metadata": {},
   "source": [
    "# Main Algorithm"
   ]
  },
  {
   "cell_type": "code",
   "execution_count": 11,
   "metadata": {},
   "outputs": [],
   "source": [
    "num_file, num_target, num_server, file, time, dep, target = open_input(\"a_example.in\")\n",
    "# num_file, num_target, num_server, file, time, dep, target = open_input(\"b_narrow.in\")\n",
    "# num_file, num_target, num_server, file, time, dep, target = open_input(\"c_urgent.in\")\n",
    "# num_file, num_target, num_server, file, time, dep, target = open_input(\"d_typical.in\")\n",
    "# num_file, num_target, num_server, file, time, dep, target = open_input(\"e_intriguing.in\")\n",
    "# num_file, num_target, num_server, file, time, dep, target = open_input(\"f_big.in\")\n",
    "\n",
    "sequence = create_sequence(num_server, target, dep)"
   ]
  },
  {
   "cell_type": "code",
   "execution_count": 12,
   "metadata": {},
   "outputs": [],
   "source": [
    "graph = build_graph(time, dep, sequence)\n",
    "# graph = draw_graph(graph)"
   ]
  },
  {
   "cell_type": "code",
   "execution_count": 13,
   "metadata": {},
   "outputs": [],
   "source": [
    "graph, distance, path = get_longest_path(graph)\n",
    "# graph = draw_graph(graph)"
   ]
  },
  {
   "cell_type": "code",
   "execution_count": 14,
   "metadata": {},
   "outputs": [
    {
     "data": {
      "text/plain": [
       "25"
      ]
     },
     "execution_count": 14,
     "metadata": {},
     "output_type": "execute_result"
    }
   ],
   "source": [
    "score = get_score(distance, target, time)\n",
    "score"
   ]
  },
  {
   "cell_type": "code",
   "execution_count": 15,
   "metadata": {},
   "outputs": [
    {
     "name": "stdout",
     "output_type": "stream",
     "text": [
      "5\n",
      "c1 0 1\n",
      "c0 0 2\n",
      "c3 10 1\n",
      "c2 15 2\n",
      "c4 30 2\n"
     ]
    }
   ],
   "source": [
    "write_file(distance, graph)"
   ]
  }
 ],
 "metadata": {
  "kernelspec": {
   "display_name": "Python 3",
   "language": "python",
   "name": "python3"
  },
  "language_info": {
   "codemirror_mode": {
    "name": "ipython",
    "version": 3
   },
   "file_extension": ".py",
   "mimetype": "text/x-python",
   "name": "python",
   "nbconvert_exporter": "python",
   "pygments_lexer": "ipython3",
   "version": "3.7.4"
  }
 },
 "nbformat": 4,
 "nbformat_minor": 2
}
