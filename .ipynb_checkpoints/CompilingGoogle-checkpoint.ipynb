{
 "cells": [
  {
   "cell_type": "code",
   "execution_count": 23,
   "metadata": {},
   "outputs": [],
   "source": [
    "num_serv = 2\n",
    "files = ['c0', 'c1', 'c2', 'c3', 'c4', 'c5']\n",
    "dep = {'c0': [], 'c1': [], 'c2': ['c0'], 'c3': ['c1'], 'c4': ['c1', 'c2'], 'c5': ['c2', 'c3']}\n",
    "target = {'c3': [40,8], 'c4': [45,15], 'c5': [53,35]}"
   ]
  },
  {
   "cell_type": "code",
   "execution_count": 24,
   "metadata": {},
   "outputs": [],
   "source": [
    "#crea una matrice di sequenze di esecuzioni\n",
    "def create_sequence(num_serv, files, target, dep): \n",
    "    \n",
    "    num_target = len(target)\n",
    "    target_keys = list(target.keys())\n",
    "    matrix = []\n",
    "    \n",
    "    #crea una matrice con un numero di righe pari al minimo fra il numero di server e il numero di file target\n",
    "    #contenente come primo elemento un file target random (in ordine di posizione della lista)\n",
    "    matrix_dim = min(num_serv,num_target)\n",
    "    for i in range(matrix_dim):\n",
    "        row = []\n",
    "        row.append(target_keys[i])\n",
    "        matrix.append(row)\n",
    "        \n",
    "    nodes = []\n",
    "    file_list = []\n",
    "    \n",
    "    #crea la matrice delle sequenze di esecuzione\n",
    "    for i in range(matrix_dim):\n",
    "        nodes.append(matrix[i][0])\n",
    "        \n",
    "        while len(nodes) != 0:\n",
    "            dep_list = dep[nodes[0]]\n",
    "            \n",
    "            for f in dep_list:\n",
    "                if not(f in file_list):\n",
    "                    matrix[i].insert(0,f)\n",
    "                    file_list.append(f)\n",
    "                    nodes.append(f)\n",
    "                    \n",
    "            nodes.pop(0)  \n",
    "        \n",
    "    return matrix\n",
    "\n",
    "\n",
    "#crea una lista di file target che non sono dipendenza di altri files\n",
    "def find_target(target, dep):\n",
    "    no_dep_tar = []\n",
    "    \n",
    "    for key_tar in target:\n",
    "        no_dep = True\n",
    "        \n",
    "        for key_dep in dep:\n",
    "            if key_tar in dep[key_dep]:\n",
    "                no_dep = False\n",
    "                break\n",
    "                \n",
    "        if no_dep:\n",
    "            no_dep_tar.append(key_tar)\n",
    "    return no_dep_tar\n",
    "#non sono convinto che dare solo i files senza dipendenze sia utile"
   ]
  },
  {
   "cell_type": "code",
   "execution_count": 25,
   "metadata": {},
   "outputs": [
    {
     "data": {
      "text/plain": [
       "['c4', 'c5']"
      ]
     },
     "execution_count": 25,
     "metadata": {},
     "output_type": "execute_result"
    }
   ],
   "source": [
    "find_target(target, dep)"
   ]
  },
  {
   "cell_type": "code",
   "execution_count": 26,
   "metadata": {},
   "outputs": [
    {
     "data": {
      "text/plain": [
       "[['c1', 'c3'], ['c0', 'c2', 'c4']]"
      ]
     },
     "execution_count": 26,
     "metadata": {},
     "output_type": "execute_result"
    }
   ],
   "source": [
    "create_sequence(num_serv, files, target, dep)"
   ]
  },
  {
   "cell_type": "markdown",
   "metadata": {},
   "source": [
    "# DUBBI\n",
    "* Ho fatto in modo da dare alla matrice tante righe per quanti sono il minimo di target o server. Se però ho più server che target alcuni server perdono tempo senza lavorare.\n",
    "* Ho preso i file target da assegnare in ordine di come si presentavano all'interno della lista target. Non sono convinto del fatto che usando invece i file target senza dipendenze le prestazioni siano migliori. Bisogna inoltre tenere in conto che se scegliessimo questa strada avremmo ancora meno server a lavorare (inoltre va modificato il codice).\n",
    "* La soluzione che trovo in questo caso, con due server, non è una soluzione ottima ovviamente ma non sono sicuro che sia ammissibile. In che senso la soluzione trovata dev'essere ammissibile?\n",
    "* Non sono sicuro che il codice abbia una complessità decente."
   ]
  }
 ],
 "metadata": {
  "kernelspec": {
   "display_name": "Python 3",
   "language": "python",
   "name": "python3"
  },
  "language_info": {
   "codemirror_mode": {
    "name": "ipython",
    "version": 3
   },
   "file_extension": ".py",
   "mimetype": "text/x-python",
   "name": "python",
   "nbconvert_exporter": "python",
   "pygments_lexer": "ipython3",
   "version": "3.7.3"
  }
 },
 "nbformat": 4,
 "nbformat_minor": 2
}
