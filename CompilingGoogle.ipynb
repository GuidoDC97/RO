{
 "cells": [
  {
   "cell_type": "code",
   "execution_count": 2,
   "metadata": {},
   "outputs": [],
   "source": [
    "import numpy as np\n",
    "import io\n",
    "import os\n",
    "import pathlib"
   ]
  },
  {
   "cell_type": "code",
   "execution_count": 3,
   "metadata": {},
   "outputs": [],
   "source": [
    "def open_input(filename):\n",
    "    #read file\n",
    "    path=str(pathlib.Path().absolute())+\"/dataset/\"+filename\n",
    "    input_file = io.open(path, mode='r')\n",
    "    Lines = input_file.readlines() #lista di righe del file sorgente\n",
    "    input_file.close()\n",
    "\n",
    "    #parsing first line\n",
    "    [num_file,num_target,num_server] = np.fromstring(Lines[0], dtype=int, sep=' ')\n",
    "\n",
    "    #conversion of read lines from list of string to list of lists \n",
    "    Lines = [i.strip(\"[]\\n\").split(\" \") for i in Lines]\n",
    "\n",
    "    #blank dicts\n",
    "    time = {}\n",
    "    dep = {}\n",
    "    target = {}\n",
    "\n",
    "    \n",
    "    #build time & dep dicts\n",
    "    row=1\n",
    "\n",
    "    while row <= num_file*2:\n",
    "        time.update({Lines[row][0] : [Lines[row][1], Lines[row][2]]})\n",
    "        row_dep=row+1\n",
    "\n",
    "        if Lines[row_dep][0]== \"0\":\n",
    "            dep.update({Lines[row][0]: []})\n",
    "        else:\n",
    "            num_dep=int(Lines[row_dep][0])\n",
    "            dep.update({Lines[row][0]: Lines[row_dep][-num_dep:]})\n",
    "\n",
    "        row+=2\n",
    "\n",
    "        \n",
    "    #build target dict     \n",
    "    row=1+num_file*2\n",
    "\n",
    "    while row <= num_target+(num_file*2):\n",
    "        target.update({Lines[row][0] : [Lines[row][1], Lines[row][2]]})\n",
    "        row+=1;\n",
    "\n",
    "    #conversion dicts lists from string to int\n",
    "    time = dict((k,list(map(int,v))) for k,v in time.items())\n",
    "    target = dict((k,list(map(int,v))) for k,v in target.items())\n",
    "\n",
    "    #generate file list\n",
    "    file=list(time.keys())\n",
    "\n",
    "    return num_file, num_target, num_server, file, time, dep, target"
   ]
  },
  {
   "cell_type": "code",
   "execution_count": 12,
   "metadata": {},
   "outputs": [],
   "source": [
    "#creates the matrix of execution sequences\n",
    "def create_sequence(num_server, target, dep): \n",
    "    \n",
    "    #INPUT\n",
    "    #num_serv: number of servers\n",
    "    #target: dictionary of target's files\n",
    "    #dep: dictionary of file's dependencies\n",
    "    \n",
    "    #OUTPUT\n",
    "    #matrix: matrix of execution sequences\n",
    "    \n",
    "    #number of files target\n",
    "    num_target = len(target)\n",
    "    #list of target files\n",
    "    target_keys = list(target.keys())\n",
    "    #declaration of emtpy matrix\n",
    "    matrix = []\n",
    "    \n",
    "   \n",
    "    matrix_dim = min(num_server,num_target)\n",
    "    #insert a target file for each matrix' row \n",
    "    for i in range(matrix_dim):\n",
    "        row = []\n",
    "        row.append(target_keys[i])\n",
    "        matrix.append(row)\n",
    "    \n",
    "    #declaration of empty list of nodes. Contains nodes that must be inserted in a matrix' row\n",
    "    nodes = []\n",
    "    #declaration of empty list of files. Contains files that have already been inserted in matrix\n",
    "    file_list = []\n",
    "    \n",
    "    #continues filling the matrix with dependencies of file targets\n",
    "    for i in range(matrix_dim):\n",
    "        nodes.append(matrix[i][0])\n",
    "        \n",
    "        while len(nodes) != 0:\n",
    "            dep_list = dep[nodes[0]]\n",
    "            \n",
    "            for f in dep_list:\n",
    "                #check whether the dependency file is already being compiled on a server or not\n",
    "                if not(f in file_list):\n",
    "                    matrix[i].insert(0,f)\n",
    "                    file_list.append(f)\n",
    "                    nodes.append(f)\n",
    "                    \n",
    "            nodes.pop(0)  \n",
    "        \n",
    "    return matrix\n",
    "\n",
    "#creates list of target files that do not generates dependencies\n",
    "def find_target(target, dep):\n",
    "    no_dep_tar = []\n",
    "    \n",
    "    for key_tar in target:\n",
    "        no_dep = True\n",
    "        \n",
    "        for key_dep in dep:\n",
    "            if key_tar in dep[key_dep]:\n",
    "                no_dep = False\n",
    "                break\n",
    "                \n",
    "        if no_dep:\n",
    "            no_dep_tar.append(key_tar)\n",
    "    return no_dep_tar"
   ]
  },
  {
   "cell_type": "code",
   "execution_count": 13,
   "metadata": {},
   "outputs": [
    {
     "data": {
      "text/plain": [
       "[['c1', 'c3'], ['c0', 'c2', 'c4']]"
      ]
     },
     "execution_count": 13,
     "metadata": {},
     "output_type": "execute_result"
    }
   ],
   "source": [
    "num_file, num_target, num_server, file, time, dep, target = open_input(\"a_example.in\")\n",
    "matrix = create_sequence(num_server, target, dep)\n",
    "matrix"
   ]
  },
  {
   "cell_type": "markdown",
   "metadata": {},
   "source": [
    "# DOUBTS\n",
    "* Ho fatto in modo da dare alla matrice tante righe per quanti sono il minimo di target o server. Se però ho più server che target alcuni server perdono tempo senza lavorare.\n",
    "* Ho preso i file target da assegnare in ordine di come si presentavano all'interno della lista target. Non sono convinto del fatto che usando invece i file target senza dipendenze le prestazioni siano migliori. Bisogna inoltre tenere in conto che se scegliessimo questa strada avremmo ancora meno server a lavorare (inoltre va modificato il codice).\n",
    "* La soluzione che trovo in questo caso, con due server, non è una soluzione ottima ovviamente ma non sono sicuro che sia ammissibile. In che senso la soluzione trovata dev'essere ammissibile?\n",
    "* Non sono sicuro che il codice abbia una complessità decente."
   ]
  }
 ],
 "metadata": {
  "kernelspec": {
   "display_name": "Python 3",
   "language": "python",
   "name": "python3"
  },
  "language_info": {
   "codemirror_mode": {
    "name": "ipython",
    "version": 3
   },
   "file_extension": ".py",
   "mimetype": "text/x-python",
   "name": "python",
   "nbconvert_exporter": "python",
   "pygments_lexer": "ipython3",
   "version": "3.7.3"
  }
 },
 "nbformat": 4,
 "nbformat_minor": 2
}
